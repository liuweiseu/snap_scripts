{
 "cells": [
  {
   "cell_type": "markdown",
   "metadata": {},
   "source": [
    "## LIMBO Instrumentation\n",
    "* requirements:\n",
    "    * mlib_devel : [m2021a branch](https://github.com/liuweiseu/mlib_devel/tree/m2021a)\n",
    "    * casperfpga : [py38 branch](https://github.com/liuweiseu/casperfpga/tree/py38)\n",
    "    * design     : [snap_adc.slx](https://github.com/liuweiseu/snap_hdl_tut/blob/master/snap_adc.slx)"
   ]
  },
  {
   "cell_type": "markdown",
   "metadata": {},
   "source": [
    "### Step0: Import necessary packages"
   ]
  },
  {
   "cell_type": "code",
   "execution_count": 51,
   "metadata": {},
   "outputs": [],
   "source": [
    "import os\n",
    "import sys\n",
    "import casperfpga\n",
    "import logging\n",
    "import time\n",
    "import redis\n",
    "import numpy as np\n",
    "import struct\n",
    "import matplotlib.pyplot as plt\n",
    "%matplotlib widget"
   ]
  },
  {
   "cell_type": "markdown",
   "metadata": {},
   "source": [
    "### Step1: Set parameters"
   ]
  },
  {
   "cell_type": "code",
   "execution_count": 13,
   "metadata": {},
   "outputs": [],
   "source": [
    "'''\n",
    "SNAP board info\n",
    "'''\n",
    "snap_ip  = '192.168.2.100'\n",
    "port    = 69\n",
    "\n",
    "#fpg_file='snap_hdl_pfb_2023-04-16_0027.fpg'\n",
    "fpg_file = 'snap_hdl_pfb_2023-04-16_0115.fpg'\n",
    "'''\n",
    "Parameters for spectrameter\n",
    "''' \n",
    "# sample freq\n",
    "fs = 500\n",
    "#fs = 1000\n",
    "adc_ref = 10\n",
    "# adc gain: it's voltage multplier inside the ADC IC.\n",
    "adc_gain = 4\n",
    "\n"
   ]
  },
  {
   "cell_type": "markdown",
   "metadata": {},
   "source": [
    "### Step2: Connect to the SNAP board "
   ]
  },
  {
   "cell_type": "code",
   "execution_count": 14,
   "metadata": {},
   "outputs": [
    {
     "name": "stderr",
     "output_type": "stream",
     "text": [
      "ERROR:tornado.application:Exception in callback functools.partial(<bound method IOLoop._discard_future_result of <tornado.platform.asyncio.AsyncIOLoop object at 0x7f11746be2e0>>, <Future finished exception=KatcpClientError(\"Failed to connect to ('192.168.2.100', 69)\")>)\n",
      "Traceback (most recent call last):\n",
      "  File \"/home/wei/.conda/envs/py38/lib/python3.8/site-packages/tornado/ioloop.py\", line 740, in _run_callback\n",
      "    ret = callback()\n",
      "  File \"/home/wei/.conda/envs/py38/lib/python3.8/site-packages/tornado/ioloop.py\", line 764, in _discard_future_result\n",
      "    future.result()\n",
      "  File \"/home/wei/.conda/envs/py38/lib/python3.8/site-packages/tornado/gen.py\", line 782, in run\n",
      "    yielded = self.gen.send(value)\n",
      "  File \"/home/wei/.conda/envs/py38/lib/python3.8/site-packages/katcp/client.py\", line 682, in _install\n",
      "    raise KatcpClientError(\"Failed to connect to {0!r}\"\n",
      "katcp.core.KatcpClientError: Failed to connect to ('192.168.2.100', 69)\n"
     ]
    }
   ],
   "source": [
    "logger=logging.getLogger('snap')\n",
    "logging.basicConfig(filename='snap.log',level=logging.DEBUG)\n",
    "snap=casperfpga.CasperFpga(snap_ip, port, logger=logger)"
   ]
  },
  {
   "cell_type": "markdown",
   "metadata": {},
   "source": [
    "### Step4: Upload fpg file"
   ]
  },
  {
   "cell_type": "code",
   "execution_count": 15,
   "metadata": {},
   "outputs": [
    {
     "name": "stdout",
     "output_type": "stream",
     "text": [
      "fpg file:  ../fpg/snap_hdl_pfb_2023-04-16_0115.fpg\n"
     ]
    },
    {
     "name": "stderr",
     "output_type": "stream",
     "text": [
      "100% (103 of 103) |######################| Elapsed Time: 0:01:45 Time:  0:01:45\n"
     ]
    }
   ],
   "source": [
    "fpg = '../fpg/'+fpg_file\n",
    "print('fpg file: ',fpg)\n",
    "snap.upload_to_ram_and_program(fpg)\n",
    "# We should get system info in \"upload_to_ran_and_program\", but it seems there are some issues in the casperfpga\n",
    "snap.get_system_information(fpg,initialise_objects=False)"
   ]
  },
  {
   "cell_type": "markdown",
   "metadata": {},
   "source": [
    "### Step5: Init clk and adc"
   ]
  },
  {
   "cell_type": "code",
   "execution_count": 16,
   "metadata": {},
   "outputs": [
    {
     "name": "stdout",
     "output_type": "stream",
     "text": [
      "File in flash is:  snap_hdl_pfb_2023-04-16_0115.fpg\n",
      "File in flash is:  snap_hdl_pfb_2023-04-16_0115.fpg\n"
     ]
    }
   ],
   "source": [
    "# numChannel depends on fs\n",
    "if(fs==1000):\n",
    "    numChannel = 1\n",
    "    inputs = [1,1,1,1]\n",
    "elif(fs==500):\n",
    "    numChannel = 2\n",
    "    inputs = [1,1,3,3]\n",
    "# init adc and clk\n",
    "adc=snap.adcs['snap_adc']\n",
    "adc.ref = adc_ref\n",
    "adc.selectADC()\n",
    "adc.init(sample_rate=fs,numChannel=numChannel)\n",
    "adc.rampTest(retry=True)\n",
    "adc.adc.selectInput(inputs)\n",
    "adc.selectADC()\n",
    "adc.set_gain(adc_gain)"
   ]
  },
  {
   "cell_type": "code",
   "execution_count": 17,
   "metadata": {},
   "outputs": [
    {
     "data": {
      "text/plain": [
       "['adc16_controller',\n",
       " 'adc16_use_synth',\n",
       " 'adc16_wb_ram0',\n",
       " 'adc16_wb_ram1',\n",
       " 'adc16_wb_ram2',\n",
       " 'adc_snap_bram',\n",
       " 'adc_snap_ctrl',\n",
       " 'adc_snap_status',\n",
       " 'adc_trig',\n",
       " 'led_ctrl',\n",
       " 'lmx_ctrl',\n",
       " 'pfb_status',\n",
       " 'pwr_snapshot_ss0_bram',\n",
       " 'pwr_snapshot_ss0_ctrl',\n",
       " 'pwr_snapshot_ss0_status',\n",
       " 'pwr_snapshot_ss1_bram',\n",
       " 'pwr_snapshot_ss1_ctrl',\n",
       " 'pwr_snapshot_ss1_status',\n",
       " 'shiftreg',\n",
       " 'sw_trig',\n",
       " 'sys',\n",
       " 'sys_board_id',\n",
       " 'sys_clkcounter',\n",
       " 'sys_ctl',\n",
       " 'sys_rev',\n",
       " 'sys_rev_rcs',\n",
       " 'sys_scratchpad',\n",
       " 'ten_gbe']"
      ]
     },
     "execution_count": 17,
     "metadata": {},
     "output_type": "execute_result"
    }
   ],
   "source": [
    "snap.listdev()"
   ]
  },
  {
   "cell_type": "code",
   "execution_count": 7,
   "metadata": {
    "tags": []
   },
   "outputs": [
    {
     "data": {
      "text/plain": [
       "['adc_snap_ctrl', 'adc_snap_status', 'adc_trig', 'led_ctrl', 'pfb_status', 'pwr_snapshot_ss0_ctrl', 'pwr_snapshot_ss0_status', 'pwr_snapshot_ss1_ctrl', 'pwr_snapshot_ss1_status', 'shiftreg', 'sw_trig', 'sync_gen_sync', 'sync_gen_sync_period_sel', 'sync_gen_sync_period_var', 'sys_ctl', 'sys_board_id', 'sys_rev', 'sys_rev_rcs', 'sys_scratchpad', 'sys_clkcounter']"
      ]
     },
     "execution_count": 7,
     "metadata": {},
     "output_type": "execute_result"
    }
   ],
   "source": [
    "snap.registers"
   ]
  },
  {
   "cell_type": "code",
   "execution_count": 18,
   "metadata": {
    "tags": []
   },
   "outputs": [],
   "source": [
    "snap.registers['sys_ctl'].write_int(1)\n",
    "time.sleep(0.1)\n",
    "snap.registers['sys_ctl'].write_int(0)\n",
    "time.sleep(0.1)\n",
    "snap.registers['sys_ctl'].write_int(2)\n",
    "time.sleep(0.1)\n",
    "snap.registers['sys_ctl'].write_int(0)"
   ]
  },
  {
   "cell_type": "code",
   "execution_count": 20,
   "metadata": {
    "tags": []
   },
   "outputs": [
    {
     "data": {
      "text/plain": [
       "1024"
      ]
     },
     "execution_count": 20,
     "metadata": {},
     "output_type": "execute_result"
    }
   ],
   "source": [
    "snap.registers['pfb_status'].read_uint()"
   ]
  },
  {
   "cell_type": "markdown",
   "metadata": {},
   "source": [
    "### Step6: Trig snapshot"
   ]
  },
  {
   "cell_type": "code",
   "execution_count": 24,
   "metadata": {},
   "outputs": [],
   "source": [
    "snap.registers['sw_trig'].write_int(0)\n",
    "time.sleep(1)\n",
    "snap.registers['sw_trig'].write_int(1)"
   ]
  },
  {
   "cell_type": "markdown",
   "metadata": {},
   "source": [
    "### Step7: read spectra data from snapshot"
   ]
  },
  {
   "cell_type": "code",
   "execution_count": 25,
   "metadata": {
    "tags": []
   },
   "outputs": [
    {
     "data": {
      "text/plain": [
       "['adc_snap', 'pwr_snapshot_ss0', 'pwr_snapshot_ss1']"
      ]
     },
     "execution_count": 25,
     "metadata": {},
     "output_type": "execute_result"
    }
   ],
   "source": [
    "snap.snapshots"
   ]
  },
  {
   "cell_type": "code",
   "execution_count": 26,
   "metadata": {
    "tags": []
   },
   "outputs": [],
   "source": [
    "snap.snapshots['pwr_snapshot_ss0'].arm()\n",
    "data0 = snap.snapshots['pwr_snapshot_ss0'].read()['data']"
   ]
  },
  {
   "cell_type": "code",
   "execution_count": 27,
   "metadata": {
    "tags": []
   },
   "outputs": [],
   "source": [
    "snap.snapshots['pwr_snapshot_ss1'].arm()\n",
    "data1 = snap.snapshots['pwr_snapshot_ss1'].read()['data']"
   ]
  },
  {
   "cell_type": "code",
   "execution_count": 37,
   "metadata": {
    "tags": []
   },
   "outputs": [],
   "source": [
    "d0=np.array(data0['data'])\n",
    "d1=np.array(data1['data'])"
   ]
  },
  {
   "cell_type": "code",
   "execution_count": 41,
   "metadata": {
    "tags": []
   },
   "outputs": [],
   "source": [
    "d=np.array([d0,d1])"
   ]
  },
  {
   "cell_type": "code",
   "execution_count": 42,
   "metadata": {
    "tags": []
   },
   "outputs": [
    {
     "data": {
      "text/plain": [
       "(256,)"
      ]
     },
     "execution_count": 42,
     "metadata": {},
     "output_type": "execute_result"
    }
   ],
   "source": [
    "d0.shape"
   ]
  },
  {
   "cell_type": "code",
   "execution_count": 49,
   "metadata": {
    "tags": []
   },
   "outputs": [
    {
     "data": {
      "text/plain": [
       "(1, 512)"
      ]
     },
     "execution_count": 49,
     "metadata": {},
     "output_type": "execute_result"
    }
   ],
   "source": [
    "dat = d.reshape(1,512)\n",
    "dat.shape"
   ]
  },
  {
   "cell_type": "code",
   "execution_count": 55,
   "metadata": {
    "tags": []
   },
   "outputs": [
    {
     "data": {
      "application/vnd.jupyter.widget-view+json": {
       "model_id": "d303ed35fa214947a51029defe5f46a0",
       "version_major": 2,
       "version_minor": 0
      },
      "image/png": "[encoded data removed]",
      "text/html": [
       "\n",
       "            <div style=\"display: inline-block;\">\n",
       "                <div class=\"jupyter-widgets widget-label\" style=\"text-align: center;\">\n",
       "                    Figure\n",
       "                </div>\n",
       "                <img src='data:image/png;base64,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' width=640.0/>\n",
       "            </div>\n",
       "        "
      ],
      "text/plain": [
       "Canvas(toolbar=Toolbar(toolitems=[('Home', 'Reset original view', 'home', 'home'), ('Back', 'Back to previous …"
      ]
     },
     "metadata": {},
     "output_type": "display_data"
    }
   ],
   "source": [
    "fig=plt.figure()\n",
    "sub=fig.add_subplot(111)\n",
    "sub.plot(dat[0])\n",
    "plt.show()"
   ]
  },
  {
   "cell_type": "code",
   "execution_count": 48,
   "metadata": {
    "tags": []
   },
   "outputs": [
    {
     "data": {
      "text/plain": [
       "array([[1, 2, 3, 4, 5, 6]])"
      ]
     },
     "execution_count": 48,
     "metadata": {},
     "output_type": "execute_result"
    }
   ],
   "source": [
    "a.reshape(1,6)"
   ]
  },
  {
   "cell_type": "code",
   "execution_count": 54,
   "metadata": {
    "tags": []
   },
   "outputs": [
    {
     "data": {
      "text/plain": [
       "array([[  3419917,   1487842,   3605233,   4823053,   1773538,    457165,\n",
       "          1203865,   1791613,    849704,    686914,    633173,   4856690,\n",
       "          4421645,   2116228,    612041,    159149,   8040514,    203645,\n",
       "          2738077,   2408485,   4461728,   2729896,   3628593,     59330,\n",
       "           877201,   1097588,    736882,   3660392,   2699674,   1310209,\n",
       "          1996496,   8462746,   1846829,   1941925,    545668,    381514,\n",
       "           680818,   4037024,    529652,   3740537,    108250,   1794106,\n",
       "           358810,    667589,    274105,   2148161,    140625,    247426,\n",
       "        412882033,     33553,     30368,   3071609,   3671345,   2175274,\n",
       "          2404405,    553577,   1751284,   1333697,    872168,   2173761,\n",
       "           662825,   4456180,   3400994,    711001,    159685,      1684,\n",
       "           237802,   6805156,    460865,    760660,   5158529,    662708,\n",
       "          1420565,   4081576,   5278874,   1263905,    330929,    611885,\n",
       "           919530,    813301,   3658832,   1704050,   2011225,    541049,\n",
       "          4664996,   1199585,   4709185,   1333957,   1768325,     34000,\n",
       "           322445,   4066757,    874682,   1665178,    846338,   1056980,\n",
       "           904573,    107656,   2374450,   4578064,    305161,   2270756,\n",
       "          3102521,   2513713,    674218,    591156,   1828133,   1948570,\n",
       "          4082065,   7197593,   2763605,   1115090,   1464025,    632050,\n",
       "          1178036,    123624,   6312449,   2173077,    551821,     65050,\n",
       "          1135521,     74825,   3914233,   1639634,   1120565,    793561,\n",
       "            51280,    504706,   2582161,   1983797,   1277866,    746960,\n",
       "            27602,    164048,   2054169,   1550642,     14114,    258074,\n",
       "          1023125,    799306,    479650,   1167850,    188737,    343669,\n",
       "          1328458,    805076,   2958253,   3073930,   1076890,    481573,\n",
       "          1817218,    936585,    121634,    636925,    474281,   1663841,\n",
       "          1176586,    208850,    323210,    515425,   1091744,      7949,\n",
       "          1606981,   4520212,     45169,   1370970,   2280196,   1516437,\n",
       "           124240,    448906,   1788749,    117637,   1341544,    410353,\n",
       "            78098,    366250,    245981,    877810,   2410996,    616226,\n",
       "            70754,   1265890,    564768,   1534525,   1532978,    654805,\n",
       "           123029,    916690,    282290,    248573,     81232,   1909258,\n",
       "          2458849,    324666,    649298,    596509,     23125,    590409,\n",
       "          1306980,    585209,    285514,     94082,    432533,    541584,\n",
       "             4274,    284805,    329409,    452025,     14045,    548788,\n",
       "           269794,    586922,    288181,     57265,    343316,    158258,\n",
       "            66537,     50653,    215426,    211880,    146560,     79570,\n",
       "           127913,    156866,    116645,    207649,     42881,     85648,\n",
       "            44834,     67418,    173938,    187589,     10865,     82025,\n",
       "           110664,     34129,     61802,     79105,    184321,    115810,\n",
       "           130280,     24341,     45608,    175865,     48193,    104000,\n",
       "            43844,     71249,     86201,     33989,      2045,      9896,\n",
       "             5300,   4289041,       457,     24578,     21682,     56953,\n",
       "            36181,    116890,     62613,     78525,     39645,    161213,\n",
       "            40360,     67169,     27560,    174529,    106889,     17730,\n",
       "            27394,     24500,    166738,     39817,     76585,    197965,\n",
       "           112745,     53633,     36173,    286056,      6274,    211600,\n",
       "           268424,    155378,      8577,    150845,     57085,    256258,\n",
       "            86938,    172521,     84329,    113480,     25570,    114869,\n",
       "            43145,    100385,     17090,    100989,    138385,     57493,\n",
       "           542425,     73010,    236273,    115321,      5858,   1065445,\n",
       "            52389,    853205,    128834,     94690,    369746,     31909,\n",
       "          1825421,   1417442,    714233,    500292,     38530,    151540,\n",
       "           333856,   1193681,   2120949,    537956,    225448,    979508,\n",
       "           454834,    894004,   1258165,   1608921,    381609,    262261,\n",
       "           418157,     43425,   3879130,    538730,   1933425,    386482,\n",
       "          2795497,   1647568,    679748,    827821,   1175474,   1521122,\n",
       "          1182073,   6069050,   2237525,   1272025,   1539140,     80308,\n",
       "          2929505,   2683645,    981280,    207962,   1172405,    731833,\n",
       "            24305,    365965,    244465,    659578,     52034,    589205,\n",
       "          1042210,   1270098,   1266589,   6769885,   2121145,   1569994,\n",
       "          2086433,   2723290,   1925332,    531098,   1966445,    342450,\n",
       "            29002,    653553,   1995109,   2055604,    518416,    689185,\n",
       "           862597,   2093130,   1308368,   1986833,     73138,   1121476,\n",
       "           348298,   2026413,   1102400,    709641,    763828,     95489,\n",
       "           855461,   2140381,   2538101,    616505,   1357049,      1864,\n",
       "           471861,   1250405,   2443586,   1333008,    918833,    776200,\n",
       "          1858345,   4289410,   2114125,    187065,    229994,   2660008,\n",
       "          1398736,    521672,     62525,   1070836,     78893,   1527250,\n",
       "           156740,   5287981,    174505,   7896125,   3028898,   1931978,\n",
       "          1857946,   3941314,    740385,   3777425,   2723661,   1989396,\n",
       "          1423568,    193385,   1855130,   1487440,    717125,   5155250,\n",
       "          1887112,    270100,   2341597,   2777770,   2914661,   2941712,\n",
       "          3446386,   1804898,   2847869,   3543829,   5658980,     55840,\n",
       "           624410,    520634,     58194,   1271045,   3416354,     68785,\n",
       "          2832037,    146250,   2166106,    346450,    329108,   2283658,\n",
       "           725125,    821858, 410525389,   2364305,   1975770,   1353384,\n",
       "          1724804,   3890273,     99125,    832217,    154250,    883373,\n",
       "          1901800,    900820,   4504068,    310600,   1265445,     97373,\n",
       "          3993940,   1280978,    132904,   3746873,   5651780,    339685,\n",
       "           113426,   1328633,   1109525,   1647370,    963037,    319874,\n",
       "          1184345,   2734544,   1169577,   1394640,   3309602,   2064762,\n",
       "          2847464,    784354,   5872165,   5400832,     43993,   1977300,\n",
       "          2434241,   8651809,   1047370,    201545,   1256450,   1054352,\n",
       "          7882865,    635050,   3168656,   2991112,   2657626,    279625,\n",
       "          5265765,    375010]])"
      ]
     },
     "execution_count": 54,
     "metadata": {},
     "output_type": "execute_result"
    }
   ],
   "source": [
    "dat"
   ]
  },
  {
   "cell_type": "code",
   "execution_count": 56,
   "metadata": {
    "tags": []
   },
   "outputs": [
    {
     "data": {
      "text/plain": [
       "412882033"
      ]
     },
     "execution_count": 56,
     "metadata": {},
     "output_type": "execute_result"
    }
   ],
   "source": [
    "np.max(dat)"
   ]
  },
  {
   "cell_type": "code",
   "execution_count": 57,
   "metadata": {
    "tags": []
   },
   "outputs": [
    {
     "data": {
      "text/plain": [
       "(array([0]), array([48]))"
      ]
     },
     "execution_count": 57,
     "metadata": {},
     "output_type": "execute_result"
    }
   ],
   "source": [
    "np.where(dat==np.max(dat))"
   ]
  },
  {
   "cell_type": "code",
   "execution_count": 59,
   "metadata": {
    "tags": []
   },
   "outputs": [
    {
     "data": {
      "text/plain": [
       "412882033"
      ]
     },
     "execution_count": 59,
     "metadata": {},
     "output_type": "execute_result"
    }
   ],
   "source": [
    "dat[0][48]"
   ]
  },
  {
   "cell_type": "code",
   "execution_count": null,
   "metadata": {},
   "outputs": [],
   "source": []
  }
 ],
 "metadata": {
  "kernelspec": {
   "display_name": "Python-py38",
   "language": "python",
   "name": "py38"
  },
  "language_info": {
   "codemirror_mode": {
    "name": "ipython",
    "version": 3
   },
   "file_extension": ".py",
   "mimetype": "text/x-python",
   "name": "python",
   "nbconvert_exporter": "python",
   "pygments_lexer": "ipython3",
   "version": "3.8.16"
  },
  "vscode": {
   "interpreter": {
    "hash": "27745930533e8c1e0ed937b7f44515451e0a1837fbf8622df4f8cea0a04f783b"
   }
  }
 },
 "nbformat": 4,
 "nbformat_minor": 4
}
