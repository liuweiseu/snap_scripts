{
 "cells": [
  {
   "cell_type": "markdown",
   "metadata": {},
   "source": [
    "## LIMBO Instrumentation\n",
    "* requirements:\n",
    "    * mlib_devel : [m2021a branch](https://github.com/liuweiseu/mlib_devel/tree/m2021a)\n",
    "    * casperfpga : [py38 branch](https://github.com/liuweiseu/casperfpga/tree/py38)\n",
    "    * design     : [snap_adc.slx](https://github.com/liuweiseu/snap_hdl_tut/blob/master/snap_adc.slx)"
   ]
  },
  {
   "cell_type": "markdown",
   "metadata": {},
   "source": [
    "### Step0: Import necessary packages"
   ]
  },
  {
   "cell_type": "code",
   "execution_count": 1,
   "metadata": {},
   "outputs": [],
   "source": [
    "import os\n",
    "import sys\n",
    "import casperfpga\n",
    "import logging\n",
    "import time\n",
    "import redis\n",
    "import numpy as np\n",
    "import struct"
   ]
  },
  {
   "cell_type": "markdown",
   "metadata": {},
   "source": [
    "### Step1: Set parameters"
   ]
  },
  {
   "cell_type": "code",
   "execution_count": 4,
   "metadata": {},
   "outputs": [],
   "source": [
    "'''\n",
    "SNAP board info\n",
    "'''\n",
    "snap_ip  = '192.168.2.100'\n",
    "port    = 69\n",
    "\n",
    "\n",
    "#fpg_file='snap_tut_adc_2023-06-09_1222.fpg'\n",
    "fpg_file = 'snap_hdl_pfb_v4_2023-08-01_1230.fpg'\n",
    "'''\n",
    "Parameters for spectrameter\n",
    "''' \n",
    "# sample freq\n",
    "fs = 500\n",
    "#fs = 1000\n",
    "adc_ref = 10\n",
    "# adc gain: it's voltage multplier inside the ADC IC.\n",
    "adc_gain = 4\n",
    "\n"
   ]
  },
  {
   "cell_type": "markdown",
   "metadata": {},
   "source": [
    "### Step2: Connect to the SNAP board "
   ]
  },
  {
   "cell_type": "code",
   "execution_count": 3,
   "metadata": {},
   "outputs": [
    {
     "name": "stderr",
     "output_type": "stream",
     "text": [
      "ERROR:tornado.application:Exception in callback functools.partial(<bound method IOLoop._discard_future_result of <tornado.platform.asyncio.AsyncIOLoop object at 0x7f9f847bccd0>>, <Future finished exception=KatcpClientError(\"Failed to connect to ('192.168.2.100', 69)\")>)\n",
      "Traceback (most recent call last):\n",
      "  File \"/home/wei/.conda/envs/py38/lib/python3.8/site-packages/tornado/ioloop.py\", line 740, in _run_callback\n",
      "    ret = callback()\n",
      "  File \"/home/wei/.conda/envs/py38/lib/python3.8/site-packages/tornado/ioloop.py\", line 764, in _discard_future_result\n",
      "    future.result()\n",
      "  File \"/home/wei/.conda/envs/py38/lib/python3.8/site-packages/tornado/gen.py\", line 782, in run\n",
      "    yielded = self.gen.send(value)\n",
      "  File \"/home/wei/.conda/envs/py38/lib/python3.8/site-packages/katcp/client.py\", line 682, in _install\n",
      "    raise KatcpClientError(\"Failed to connect to {0!r}\"\n",
      "katcp.core.KatcpClientError: Failed to connect to ('192.168.2.100', 69)\n"
     ]
    }
   ],
   "source": [
    "logger=logging.getLogger('snap')\n",
    "logging.basicConfig(filename='snap.log',level=logging.DEBUG)\n",
    "snap=casperfpga.CasperFpga(snap_ip, port, logger=logger)"
   ]
  },
  {
   "cell_type": "markdown",
   "metadata": {},
   "source": [
    "### Step4: Upload fpg file"
   ]
  },
  {
   "cell_type": "code",
   "execution_count": 5,
   "metadata": {},
   "outputs": [
    {
     "name": "stdout",
     "output_type": "stream",
     "text": [
      "fpg file:  ../fpg/snap_hdl_pfb_v4_2023-08-01_1230.fpg\n"
     ]
    }
   ],
   "source": [
    "fpg = '../fpg/'+fpg_file\n",
    "print('fpg file: ',fpg)\n",
    "snap.upload_to_ram_and_program(fpg)\n",
    "# We should get system info in \"upload_to_ran_and_program\", but it seems there are some issues in the casperfpga\n",
    "snap.get_system_information(fpg,initialise_objects=False)"
   ]
  },
  {
   "cell_type": "markdown",
   "metadata": {},
   "source": [
    "### Step5: Init clk and adc"
   ]
  },
  {
   "cell_type": "code",
   "execution_count": 7,
   "metadata": {},
   "outputs": [
    {
     "data": {
      "text/plain": [
       "['snap_adc']"
      ]
     },
     "execution_count": 7,
     "metadata": {},
     "output_type": "execute_result"
    }
   ],
   "source": [
    "snap.adcs"
   ]
  },
  {
   "cell_type": "code",
   "execution_count": 8,
   "metadata": {},
   "outputs": [
    {
     "name": "stdout",
     "output_type": "stream",
     "text": [
      "File in flash is:  snap_hdl_pfb_v4_2023-08-01_1230.fpg\n",
      "File in flash is:  snap_hdl_pfb_v4_2023-08-01_1230.fpg\n"
     ]
    }
   ],
   "source": [
    "# numChannel depends on fs\n",
    "if(fs==1000):\n",
    "    numChannel = 1\n",
    "    inputs = [1,1,1,1]\n",
    "elif(fs==500):\n",
    "    numChannel = 2\n",
    "    inputs = [1,1,3,3]\n",
    "# init adc and clk\n",
    "adc=snap.adcs['snap_adc']\n",
    "adc.ref = adc_ref\n",
    "adc.selectADC()\n",
    "adc.init(sample_rate=fs,numChannel=numChannel)\n",
    "adc.rampTest(retry=True)\n",
    "adc.adc.selectInput(inputs)\n",
    "adc.selectADC()\n",
    "adc.set_gain(adc_gain)"
   ]
  },
  {
   "cell_type": "code",
   "execution_count": 9,
   "metadata": {},
   "outputs": [
    {
     "data": {
      "text/plain": [
       "['acc_len',\n",
       " 'adc16_controller',\n",
       " 'adc16_use_synth',\n",
       " 'adc16_wb_ram0',\n",
       " 'adc16_wb_ram1',\n",
       " 'adc16_wb_ram2',\n",
       " 'led_ctrl',\n",
       " 'lmx_ctrl',\n",
       " 'pfb_status',\n",
       " 'pwr_snapshot_ss0_bram',\n",
       " 'pwr_snapshot_ss0_ctrl',\n",
       " 'pwr_snapshot_ss0_status',\n",
       " 'pwr_snapshot_ss1_bram',\n",
       " 'pwr_snapshot_ss1_ctrl',\n",
       " 'pwr_snapshot_ss1_status',\n",
       " 'sw_trig',\n",
       " 'sys',\n",
       " 'sys_board_id',\n",
       " 'sys_clkcounter',\n",
       " 'sys_ctl',\n",
       " 'sys_rev',\n",
       " 'sys_rev_rcs',\n",
       " 'sys_scratchpad',\n",
       " 'ten_gbe']"
      ]
     },
     "execution_count": 9,
     "metadata": {},
     "output_type": "execute_result"
    }
   ],
   "source": [
    "snap.listdev()"
   ]
  },
  {
   "cell_type": "code",
   "execution_count": 28,
   "metadata": {
    "tags": []
   },
   "outputs": [
    {
     "data": {
      "text/plain": [
       "['adc_snap_ctrl', 'adc_snap_status', 'adc_trig', 'led_ctrl', 'sys_board_id', 'sys_rev', 'sys_rev_rcs', 'sys_scratchpad', 'sys_clkcounter']"
      ]
     },
     "execution_count": 28,
     "metadata": {},
     "output_type": "execute_result"
    }
   ],
   "source": [
    "snap.registers"
   ]
  },
  {
   "cell_type": "code",
   "execution_count": 51,
   "metadata": {
    "tags": []
   },
   "outputs": [
    {
     "name": "stdout",
     "output_type": "stream",
     "text": [
      "<class 'dict'>\n"
     ]
    }
   ],
   "source": [
    "d=adc.readRAM()\n",
    "print(type(d))"
   ]
  },
  {
   "cell_type": "code",
   "execution_count": 52,
   "metadata": {
    "tags": []
   },
   "outputs": [],
   "source": [
    "d=np.array(d[1])"
   ]
  },
  {
   "cell_type": "code",
   "execution_count": 53,
   "metadata": {
    "tags": []
   },
   "outputs": [
    {
     "data": {
      "text/plain": [
       "(128, 8)"
      ]
     },
     "execution_count": 53,
     "metadata": {},
     "output_type": "execute_result"
    }
   ],
   "source": [
    "d.shape"
   ]
  },
  {
   "cell_type": "code",
   "execution_count": 81,
   "metadata": {
    "tags": []
   },
   "outputs": [
    {
     "name": "stdout",
     "output_type": "stream",
     "text": [
      "[[1 2 3 4]\n",
      " [5 6 7 8]]\n"
     ]
    }
   ],
   "source": [
    "a=np.array([[1,2,3,4],[5,6,7,8]])\n",
    "print(a)\n"
   ]
  },
  {
   "cell_type": "code",
   "execution_count": 82,
   "metadata": {
    "tags": []
   },
   "outputs": [
    {
     "name": "stdout",
     "output_type": "stream",
     "text": [
      "[[4 3 2 1]\n",
      " [8 7 6 5]]\n"
     ]
    }
   ],
   "source": [
    "a=a[:,[3,2,1,0]]\n",
    "print(a)"
   ]
  },
  {
   "cell_type": "code",
   "execution_count": 83,
   "metadata": {
    "tags": []
   },
   "outputs": [
    {
     "data": {
      "text/plain": [
       "array([[4, 3],\n",
       "       [2, 1],\n",
       "       [8, 7],\n",
       "       [6, 5]])"
      ]
     },
     "execution_count": 83,
     "metadata": {},
     "output_type": "execute_result"
    }
   ],
   "source": [
    "a.reshape(4,2)"
   ]
  },
  {
   "cell_type": "code",
   "execution_count": 84,
   "metadata": {
    "tags": []
   },
   "outputs": [
    {
     "data": {
      "text/plain": [
       "array([[1, 2],\n",
       "       [3, 4],\n",
       "       [5, 6],\n",
       "       [7, 8]])"
      ]
     },
     "execution_count": 84,
     "metadata": {},
     "output_type": "execute_result"
    }
   ],
   "source": [
    "b=np.array([[1,2,3,4],[5,6,7,8]])\n",
    "b.reshape(4,2)"
   ]
  },
  {
   "cell_type": "code",
   "execution_count": null,
   "metadata": {},
   "outputs": [],
   "source": []
  }
 ],
 "metadata": {
  "kernelspec": {
   "display_name": "Python-py38",
   "language": "python",
   "name": "py38"
  },
  "language_info": {
   "codemirror_mode": {
    "name": "ipython",
    "version": 3
   },
   "file_extension": ".py",
   "mimetype": "text/x-python",
   "name": "python",
   "nbconvert_exporter": "python",
   "pygments_lexer": "ipython3",
   "version": "3.8.16"
  },
  "vscode": {
   "interpreter": {
    "hash": "27745930533e8c1e0ed937b7f44515451e0a1837fbf8622df4f8cea0a04f783b"
   }
  }
 },
 "nbformat": 4,
 "nbformat_minor": 4
}
